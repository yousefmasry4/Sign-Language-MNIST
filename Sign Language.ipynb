{
  "nbformat": 4,
  "nbformat_minor": 0,
  "metadata": {
    "colab": {
      "name": "Exercise 8 - Question.ipynb",
      "provenance": []
    },
    "kernelspec": {
      "display_name": "Python 3",
      "name": "python3"
    }
  },
  "cells": [
    {
      "cell_type": "code",
      "metadata": {
        "id": "zX4Kg8DUTKWO",
        "colab_type": "code",
        "colab": {}
      },
      "source": [
        "#@title Licensed under the Apache License, Version 2.0 (the \"License\");\n",
        "# you may not use this file except in compliance with the License.\n",
        "# You may obtain a copy of the License at\n",
        "#\n",
        "# https://www.apache.org/licenses/LICENSE-2.0\n",
        "#\n",
        "# Unless required by applicable law or agreed to in writing, software\n",
        "# distributed under the License is distributed on an \"AS IS\" BASIS,\n",
        "# WITHOUT WARRANTIES OR CONDITIONS OF ANY KIND, either express or implied.\n",
        "# See the License for the specific language governing permissions and\n",
        "# limitations under the License."
      ],
      "execution_count": 0,
      "outputs": []
    },
    {
      "cell_type": "code",
      "metadata": {
        "colab_type": "code",
        "id": "wYtuKeK0dImp",
        "colab": {}
      },
      "source": [
        "import csv\n",
        "import numpy as np\n",
        "import tensorflow as tf\n",
        "from tensorflow.keras.preprocessing.image import ImageDataGenerator\n",
        "from google.colab import files"
      ],
      "execution_count": 0,
      "outputs": []
    },
    {
      "cell_type": "markdown",
      "metadata": {
        "colab_type": "text",
        "id": "EmMyh9_mkDHF"
      },
      "source": [
        "The data for this exercise is available at: https://www.kaggle.com/datamunge/sign-language-mnist/home\n",
        "\n",
        "Sign up and download to find 2 CSV files: sign_mnist_test.csv and sign_mnist_train.csv -- You will upload both of them using this button before you can continue.\n"
      ]
    },
    {
      "cell_type": "code",
      "metadata": {
        "colab_type": "code",
        "id": "IcLOZlnnc_N7",
        "colab": {
          "base_uri": "https://localhost:8080/",
          "height": 217
        },
        "outputId": "96372ccb-216a-4f8f-8ccd-a1da6581a805"
      },
      "source": [
        "!wget --no-check-certificate \\\n",
        "    https://raw.githubusercontent.com/gurpreet0610/sign_language_CNN/master/sign-language-mnist/sign_mnist_test.csv\\\n",
        "    -O /content/sign_mnist_test.csv\n",
        "#uploaded=files.upload()"
      ],
      "execution_count": 21,
      "outputs": [
        {
          "output_type": "stream",
          "text": [
            "--2020-06-05 08:18:07--  https://raw.githubusercontent.com/gurpreet0610/sign_language_CNN/master/sign-language-mnist/sign_mnist_test.csv\n",
            "Resolving raw.githubusercontent.com (raw.githubusercontent.com)... 151.101.0.133, 151.101.64.133, 151.101.128.133, ...\n",
            "Connecting to raw.githubusercontent.com (raw.githubusercontent.com)|151.101.0.133|:443... connected.\n",
            "HTTP request sent, awaiting response... 200 OK\n",
            "Length: 21777485 (21M) [text/plain]\n",
            "Saving to: ‘/content/sign_mnist_test.csv’\n",
            "\n",
            "/content/sign_mnist 100%[===================>]  20.77M  38.0MB/s    in 0.5s    \n",
            "\n",
            "2020-06-05 08:18:08 (38.0 MB/s) - ‘/content/sign_mnist_test.csv’ saved [21777485/21777485]\n",
            "\n"
          ],
          "name": "stdout"
        }
      ]
    },
    {
      "cell_type": "code",
      "metadata": {
        "colab_type": "code",
        "id": "4kxw-_rmcnVu",
        "colab": {
          "base_uri": "https://localhost:8080/",
          "height": 90
        },
        "outputId": "e8323aae-291f-4ae1-c21c-69bdc5f20f3a"
      },
      "source": [
        "def get_data(filename):\n",
        "  # You will need to write code that will read the file passed\n",
        "  # into this function. The first line contains the column headers\n",
        "  # so you should ignore it\n",
        "  # Each successive line contians 785 comma separated values between 0 and 255\n",
        "  # The first value is the label\n",
        "  # The rest are the pixel values for that picture\n",
        "  # The function will return 2 np.array types. One with all the labels\n",
        "  # One with all the images\n",
        "  #\n",
        "  # Tips: \n",
        "  # If you read a full line (as 'row') then row[0] has the label\n",
        "  # and row[1:785] has the 784 pixel values\n",
        "  # Take a look at np.array_split to turn the 784 pixels into 28x28\n",
        "  # You are reading in strings, but need the values to be floats\n",
        "  # Check out np.array().astype for a conversion\n",
        "    with open(filename) as training_file:\n",
        "      csv_reader=csv.reader(training_file,delimiter=\",\")\n",
        "      first_line=True\n",
        "      temp_images=[]\n",
        "      temp_labels=[]\n",
        "      for row in csv_reader:\n",
        "        if first_line:\n",
        "          first_line=False\n",
        "        else:\n",
        "          temp_labels.append(row[0])\n",
        "          image_data=row[1:785]\n",
        "          image_data_as_array=np.array_split(image_data,28)\n",
        "          temp_images.append(image_data_as_array)\n",
        "      images=np.array(temp_images).astype('float')\n",
        "      labels=np.array(temp_labels).astype(\"float\")\n",
        "      # Your code starts here\n",
        "      # Your code ends here\n",
        "    return images, labels\n",
        "\n",
        "training_images, training_labels = get_data('sign_mnist_train.csv')\n",
        "testing_images, testing_labels = get_data('sign_mnist_test.csv')\n",
        "\n",
        "# Keep these\n",
        "print(training_images.shape)\n",
        "print(training_labels.shape)\n",
        "print(testing_images.shape)\n",
        "print(testing_labels.shape)\n",
        "\n",
        "# Their output should be:\n",
        "# (27455, 28, 28)\n",
        "# (27455,)\n",
        "# (7172, 28, 28)\n",
        "# (7172,)"
      ],
      "execution_count": 2,
      "outputs": [
        {
          "output_type": "stream",
          "text": [
            "(27455, 28, 28)\n",
            "(27455,)\n",
            "(7172, 28, 28)\n",
            "(7172,)\n"
          ],
          "name": "stdout"
        }
      ]
    },
    {
      "cell_type": "code",
      "metadata": {
        "colab_type": "code",
        "id": "awoqRpyZdQkD",
        "colab": {
          "base_uri": "https://localhost:8080/",
          "height": 53
        },
        "outputId": "8a96d428-f3ed-4eb6-8878-e0a636c15b7e"
      },
      "source": [
        "# In this section you will have to add another dimension to the data\n",
        "# So, for example, if your array is (10000, 28, 28)\n",
        "# You will need to make it (10000, 28, 28, 1)\n",
        "# Hint: np.expand_dims\n",
        "\n",
        "training_images = np.expand_dims(training_images,axis=3)\n",
        "testing_images = np.expand_dims(testing_images,axis=3)\n",
        "\n",
        "# Create an ImageDataGenerator and do Image Augmentation\n",
        "train_datagen = ImageDataGenerator(\n",
        "    rescale=1.0/255,\n",
        "    rotation_range=40,\n",
        "    width_shift_range=0.2,\n",
        "    height_shift_range=0.2,\n",
        "    shear_range=0.2,\n",
        "    zoom_range=0.2,\n",
        "    horizontal_flip=True,\n",
        "    fill_mode=\"nearest\"\n",
        "    )\n",
        "\n",
        "validation_datagen = ImageDataGenerator(\n",
        "    rescale=1.0/255)\n",
        "    \n",
        "# Keep These\n",
        "print(training_images.shape)\n",
        "print(testing_images.shape)\n",
        "    \n",
        "# Their output should be:\n",
        "# (27455, 28, 28, 1)\n",
        "# (7172, 28, 28, 1)"
      ],
      "execution_count": 3,
      "outputs": [
        {
          "output_type": "stream",
          "text": [
            "(27455, 28, 28, 1)\n",
            "(7172, 28, 28, 1)\n"
          ],
          "name": "stdout"
        }
      ]
    },
    {
      "cell_type": "code",
      "metadata": {
        "colab_type": "code",
        "id": "Rmb7S32cgRqS",
        "colab": {
          "base_uri": "https://localhost:8080/",
          "height": 598
        },
        "outputId": "842a7a40-c71d-48b9-f9f0-bbcb9fc325b4"
      },
      "source": [
        "# Define the model\n",
        "# Use no more than 2 Conv2D and 2 MaxPooling2D\n",
        "model = tf.keras.models.Sequential([\n",
        "    # Your Code Here\n",
        "    tf.keras.layers.Conv2D(\n",
        "        64,\n",
        "        (3,3),\n",
        "        activation=tf.keras.activations.relu,\n",
        "        input_shape=(28,28,1)\n",
        "    ),\n",
        "    tf.keras.layers.MaxPool2D(2,2),\n",
        "    tf.keras.layers.Conv2D(\n",
        "        128,\n",
        "        (3,3),\n",
        "        activation=tf.keras.activations.relu\n",
        "    ),\n",
        "    tf.keras.layers.MaxPool2D(2,2),\n",
        "    tf.keras.layers.Flatten(),\n",
        "    tf.keras.layers.Dense(512,activation=tf.keras.activations.relu),\n",
        "    tf.keras.layers.Dense(26,activation=tf.keras.activations.softmax)\n",
        "  ])\n",
        "\n",
        "# Compile Model. \n",
        "model.compile(\n",
        "    optimizer=tf.optimizers.Adam(),\n",
        "    loss=tf.keras.losses.sparse_categorical_crossentropy,\n",
        "    metrics=[\"accuracy\"]\n",
        ")\n",
        "\n",
        "# Train the Model\n",
        "history = model.fit_generator(\n",
        "    train_datagen.flow(\n",
        "        training_images,\n",
        "        training_labels,\n",
        "        batch_size=32  \n",
        "      ),\n",
        "      steps_per_epoch=len(training_images)/32,\n",
        "      epochs=15,\n",
        "      validation_data=validation_datagen.flow(\n",
        "          training_images,\n",
        "          training_labels,\n",
        "          batch_size=32\n",
        "      ),\n",
        "      validation_steps=len(testing_images) / 32,\n",
        "    )\n",
        "\n",
        "model.evaluate(testing_images, testing_labels)\n",
        "    \n",
        "# The output from model.evaluate should be close to:\n",
        "#[6.92426086682151, 0.56609035]\n"
      ],
      "execution_count": 8,
      "outputs": [
        {
          "output_type": "stream",
          "text": [
            "Epoch 1/15\n",
            "858/857 [==============================] - 76s 88ms/step - loss: 2.6139 - accuracy: 0.2002 - val_loss: 1.2354 - val_accuracy: 0.6024\n",
            "Epoch 2/15\n",
            "858/857 [==============================] - 80s 94ms/step - loss: 1.6409 - accuracy: 0.4738 - val_loss: 0.7487 - val_accuracy: 0.7528\n",
            "Epoch 3/15\n",
            "858/857 [==============================] - 76s 89ms/step - loss: 1.2165 - accuracy: 0.6039 - val_loss: 0.4657 - val_accuracy: 0.8462\n",
            "Epoch 4/15\n",
            "858/857 [==============================] - 76s 88ms/step - loss: 0.9974 - accuracy: 0.6679 - val_loss: 0.3806 - val_accuracy: 0.8704\n",
            "Epoch 5/15\n",
            "858/857 [==============================] - 76s 89ms/step - loss: 0.8340 - accuracy: 0.7241 - val_loss: 0.3300 - val_accuracy: 0.8829\n",
            "Epoch 6/15\n",
            "858/857 [==============================] - 76s 88ms/step - loss: 0.7230 - accuracy: 0.7595 - val_loss: 0.2250 - val_accuracy: 0.9217\n",
            "Epoch 7/15\n",
            "858/857 [==============================] - 76s 89ms/step - loss: 0.6421 - accuracy: 0.7877 - val_loss: 0.1621 - val_accuracy: 0.9449\n",
            "Epoch 8/15\n",
            "858/857 [==============================] - 76s 88ms/step - loss: 0.5893 - accuracy: 0.8051 - val_loss: 0.1787 - val_accuracy: 0.9388\n",
            "Epoch 9/15\n",
            "858/857 [==============================] - 76s 89ms/step - loss: 0.5226 - accuracy: 0.8275 - val_loss: 0.1421 - val_accuracy: 0.9539\n",
            "Epoch 10/15\n",
            "858/857 [==============================] - 76s 89ms/step - loss: 0.4893 - accuracy: 0.8373 - val_loss: 0.0910 - val_accuracy: 0.9764\n",
            "Epoch 11/15\n",
            "858/857 [==============================] - 76s 88ms/step - loss: 0.4434 - accuracy: 0.8491 - val_loss: 0.1363 - val_accuracy: 0.9544\n",
            "Epoch 12/15\n",
            "858/857 [==============================] - 76s 88ms/step - loss: 0.4202 - accuracy: 0.8587 - val_loss: 0.1048 - val_accuracy: 0.9674\n",
            "Epoch 13/15\n",
            "858/857 [==============================] - 75s 88ms/step - loss: 0.3988 - accuracy: 0.8675 - val_loss: 0.0894 - val_accuracy: 0.9700\n",
            "Epoch 14/15\n",
            "858/857 [==============================] - 76s 88ms/step - loss: 0.3636 - accuracy: 0.8786 - val_loss: 0.1089 - val_accuracy: 0.9626\n",
            "Epoch 15/15\n",
            "858/857 [==============================] - 75s 88ms/step - loss: 0.3529 - accuracy: 0.8838 - val_loss: 0.0899 - val_accuracy: 0.9707\n",
            "225/225 [==============================] - 5s 20ms/step - loss: 154.2230 - accuracy: 0.7708\n"
          ],
          "name": "stdout"
        },
        {
          "output_type": "execute_result",
          "data": {
            "text/plain": [
              "[154.22303771972656, 0.7707752585411072]"
            ]
          },
          "metadata": {
            "tags": []
          },
          "execution_count": 8
        }
      ]
    },
    {
      "cell_type": "code",
      "metadata": {
        "colab_type": "code",
        "id": "_Q3Zpr46dsij",
        "colab": {
          "base_uri": "https://localhost:8080/",
          "height": 545
        },
        "outputId": "661869ec-cde5-4cf2-df51-5e9d1d2676c0"
      },
      "source": [
        "# Plot the chart for accuracy and loss on both training and validation\n",
        "\n",
        "import matplotlib.pyplot as plt\n",
        "acc = history.history['accuracy']\n",
        "val_acc = history.history['val_accuracy']\n",
        "loss = history.history['loss']\n",
        "val_loss = history.history['val_loss']\n",
        "\n",
        "epochs = range(len(acc))\n",
        "\n",
        "plt.plot(epochs, acc, 'r', label='Training accuracy')\n",
        "plt.plot(epochs, val_acc, 'b', label='Validation accuracy')\n",
        "plt.title('Training and validation accuracy')\n",
        "plt.legend()\n",
        "plt.figure()\n",
        "\n",
        "plt.plot(epochs, loss, 'r', label='Training Loss')\n",
        "plt.plot(epochs, val_loss, 'b', label='Validation Loss')\n",
        "plt.title('Training and validation loss')\n",
        "plt.legend()\n",
        "\n",
        "plt.show()"
      ],
      "execution_count": 10,
      "outputs": [
        {
          "output_type": "display_data",
          "data": {
            "image/png": "[encoded data removed]",
            "text/plain": [
              "<Figure size 432x288 with 1 Axes>"
            ]
          },
          "metadata": {
            "tags": [],
            "needs_background": "light"
          }
        },
        {
          "output_type": "display_data",
          "data": {
            "image/png": "[encoded data removed]",
            "text/plain": [
              "<Figure size 432x288 with 1 Axes>"
            ]
          },
          "metadata": {
            "tags": [],
            "needs_background": "light"
          }
        }
      ]
    }
  ]
}